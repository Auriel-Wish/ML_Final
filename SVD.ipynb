{
 "cells": [
  {
   "cell_type": "code",
   "execution_count": 14,
   "metadata": {},
   "outputs": [],
   "source": [
    "import pandas as pd\n",
    "from surprise import Dataset, Reader, SVD, accuracy\n",
    "from surprise.model_selection import GridSearchCV, train_test_split"
   ]
  },
  {
   "cell_type": "code",
   "execution_count": 15,
   "metadata": {},
   "outputs": [],
   "source": [
    "# Load the dataset for training and validation\n",
    "reader = Reader(line_format='user item rating', sep=',', rating_scale=(1, 5), skip_lines=1)\n",
    "data = Dataset.load_from_file('data_movie_lens_100k/ratings_all_development_set.csv', reader=reader)\n",
    "\n",
    "# Split the dataset into train and test sets\n",
    "train_set, test_set = train_test_split(data, test_size=0.2)"
   ]
  },
  {
   "cell_type": "code",
   "execution_count": 16,
   "metadata": {},
   "outputs": [
    {
     "name": "stdout",
     "output_type": "stream",
     "text": [
      "Best Parameters: {'n_factors': 100, 'n_epochs': 30, 'lr_all': 0.01, 'reg_all': 0.1}\n"
     ]
    }
   ],
   "source": [
    "# Define the parameter grid for hyperparameter tuning\n",
    "param_grid = {\n",
    "    'n_factors': [20, 50, 100],\n",
    "    'n_epochs': [10, 20, 30],\n",
    "    'lr_all': [0.002, 0.005, 0.01],\n",
    "    'reg_all': [0.02, 0.05, 0.1]\n",
    "}\n",
    "\n",
    "# Perform grid search with RMSE as the optimization metric\n",
    "grid_search = GridSearchCV(\n",
    "    SVD,\n",
    "    param_grid,\n",
    "    measures=['rmse'],\n",
    "    cv=3,  # Cross-validation within train_set\n",
    "    n_jobs=-1  # Use all available CPUs\n",
    ")\n",
    "grid_search.fit(data)\n",
    "\n",
    "# Get the best parameters\n",
    "best_params = grid_search.best_params['rmse']\n",
    "print(\"Best Parameters:\", best_params)"
   ]
  },
  {
   "cell_type": "code",
   "execution_count": 17,
   "metadata": {},
   "outputs": [
    {
     "data": {
      "text/plain": [
       "<surprise.prediction_algorithms.matrix_factorization.SVD at 0x14f3a77f0>"
      ]
     },
     "execution_count": 17,
     "metadata": {},
     "output_type": "execute_result"
    }
   ],
   "source": [
    "# Retrain the best model using ALL the available data\n",
    "full_train_set = data.build_full_trainset()\n",
    "best_model = SVD(\n",
    "    n_factors=best_params['n_factors'],\n",
    "    n_epochs=best_params['n_epochs'],\n",
    "    lr_all=best_params['lr_all'],\n",
    "    reg_all=best_params['reg_all']\n",
    ")\n",
    "best_model.fit(full_train_set)"
   ]
  },
  {
   "cell_type": "code",
   "execution_count": 18,
   "metadata": {},
   "outputs": [
    {
     "name": "stdout",
     "output_type": "stream",
     "text": [
      "Predictions saved to predicted_ratings_leaderboard.txt\n"
     ]
    }
   ],
   "source": [
    "# Load the leaderboard dataset (without ratings)\n",
    "leaderboard_df = pd.read_csv('data_movie_lens_100k/ratings_masked_leaderboard_set.csv')\n",
    "\n",
    "# Generate predictions for the leaderboard set\n",
    "predictions = []\n",
    "for _, row in leaderboard_df.iterrows():\n",
    "    user_id = row['user_id']\n",
    "    item_id = row['item_id']\n",
    "    \n",
    "    # Check if the user_id and item_id are in the training set\n",
    "    if user_id not in best_model.trainset._raw2inner_id_users or \\\n",
    "       item_id not in best_model.trainset._raw2inner_id_items:\n",
    "        # Use global mean if user or item is unseen\n",
    "        predicted_rating = best_model.trainset.global_mean\n",
    "    else:\n",
    "        # Predict the rating for the user-item pair\n",
    "        predicted_rating = best_model.predict(user_id, item_id).est\n",
    "    predictions.append(predicted_rating)\n",
    "\n",
    "# Save predictions to a plain text file\n",
    "predictions = pd.Series(predictions)  # Convert to a pandas Series for saving\n",
    "predictions.to_csv('predicted_ratings_leaderboard.txt', index=False, header=False)\n",
    "\n",
    "print(\"Predictions saved to predicted_ratings_leaderboard.txt\")"
   ]
  },
  {
   "cell_type": "code",
   "execution_count": null,
   "metadata": {},
   "outputs": [],
   "source": []
  }
 ],
 "metadata": {
  "kernelspec": {
   "display_name": ".venv",
   "language": "python",
   "name": "python3"
  },
  "language_info": {
   "codemirror_mode": {
    "name": "ipython",
    "version": 3
   },
   "file_extension": ".py",
   "mimetype": "text/x-python",
   "name": "python",
   "nbconvert_exporter": "python",
   "pygments_lexer": "ipython3",
   "version": "3.10.5"
  }
 },
 "nbformat": 4,
 "nbformat_minor": 2
}
